{
 "cells": [
  {
   "cell_type": "markdown",
   "id": "1302fda7-9818-40f4-9a52-e3b9e989fbe6",
   "metadata": {},
   "source": [
    "<h1 align=\"center\"> <b>Data Mining and Data Warehousing Lab. </b></h1>\n",
    "\n",
    "<center> <b>Basic Python ML Demonstration-3 </b> </center>\n",
    "<center> <b>Dahrii Paul </b></center>\n",
    "<center>    (17-10-2024) </center>"
   ]
  },
  {
   "cell_type": "markdown",
   "id": "6d678271-32de-4a25-a400-e996c3f035d3",
   "metadata": {},
   "source": [
    "# I) Set working directory"
   ]
  },
  {
   "cell_type": "code",
   "execution_count": 22,
   "id": "e4bbd29f-a76f-4dbb-a65b-ed3c254a1eea",
   "metadata": {},
   "outputs": [],
   "source": [
    "import os\n",
    "os.listdir('/Users/paul/Desktop/python_dem')\n",
    "filepath_train = 'iris_train.csv'\n",
    "filepath_test = 'iris_test.csv'"
   ]
  },
  {
   "cell_type": "markdown",
   "id": "61273826-a0b4-43ae-9b39-a172a6359e5e",
   "metadata": {},
   "source": [
    "# II) Read the files"
   ]
  },
  {
   "cell_type": "code",
   "execution_count": 10,
   "id": "84962356-1565-4a73-ab44-32618a05df26",
   "metadata": {
    "scrolled": true
   },
   "outputs": [],
   "source": [
    "import pandas\n",
    "# help(pandas.read_csv)\n",
    "train_data = pandas.read_csv(filepath_train, header=None) # keyword arguments / named arguments\n",
    "test_data = pandas.read_csv(filepath_test, header=None)"
   ]
  },
  {
   "cell_type": "code",
   "execution_count": 11,
   "id": "ab90c1b0-bffb-4f01-9152-87978d2ebe51",
   "metadata": {},
   "outputs": [
    {
     "data": {
      "text/html": [
       "<div>\n",
       "<style scoped>\n",
       "    .dataframe tbody tr th:only-of-type {\n",
       "        vertical-align: middle;\n",
       "    }\n",
       "\n",
       "    .dataframe tbody tr th {\n",
       "        vertical-align: top;\n",
       "    }\n",
       "\n",
       "    .dataframe thead th {\n",
       "        text-align: right;\n",
       "    }\n",
       "</style>\n",
       "<table border=\"1\" class=\"dataframe\">\n",
       "  <thead>\n",
       "    <tr style=\"text-align: right;\">\n",
       "      <th></th>\n",
       "      <th>0</th>\n",
       "      <th>1</th>\n",
       "      <th>2</th>\n",
       "    </tr>\n",
       "  </thead>\n",
       "  <tbody>\n",
       "    <tr>\n",
       "      <th>0</th>\n",
       "      <td>Iris versicolor</td>\n",
       "      <td>4.7</td>\n",
       "      <td>1.4</td>\n",
       "    </tr>\n",
       "    <tr>\n",
       "      <th>1</th>\n",
       "      <td>Iris versicolor</td>\n",
       "      <td>4.5</td>\n",
       "      <td>1.5</td>\n",
       "    </tr>\n",
       "    <tr>\n",
       "      <th>2</th>\n",
       "      <td>Iris versicolor</td>\n",
       "      <td>4.9</td>\n",
       "      <td>1.5</td>\n",
       "    </tr>\n",
       "    <tr>\n",
       "      <th>3</th>\n",
       "      <td>Iris versicolor</td>\n",
       "      <td>4.0</td>\n",
       "      <td>1.3</td>\n",
       "    </tr>\n",
       "    <tr>\n",
       "      <th>4</th>\n",
       "      <td>Iris versicolor</td>\n",
       "      <td>4.6</td>\n",
       "      <td>1.5</td>\n",
       "    </tr>\n",
       "    <tr>\n",
       "      <th>...</th>\n",
       "      <td>...</td>\n",
       "      <td>...</td>\n",
       "      <td>...</td>\n",
       "    </tr>\n",
       "    <tr>\n",
       "      <th>95</th>\n",
       "      <td>Iris virginica</td>\n",
       "      <td>5.2</td>\n",
       "      <td>2.3</td>\n",
       "    </tr>\n",
       "    <tr>\n",
       "      <th>96</th>\n",
       "      <td>Iris virginica</td>\n",
       "      <td>5.0</td>\n",
       "      <td>1.9</td>\n",
       "    </tr>\n",
       "    <tr>\n",
       "      <th>97</th>\n",
       "      <td>Iris virginica</td>\n",
       "      <td>5.2</td>\n",
       "      <td>2.0</td>\n",
       "    </tr>\n",
       "    <tr>\n",
       "      <th>98</th>\n",
       "      <td>Iris virginica</td>\n",
       "      <td>5.4</td>\n",
       "      <td>2.3</td>\n",
       "    </tr>\n",
       "    <tr>\n",
       "      <th>99</th>\n",
       "      <td>Iris virginica</td>\n",
       "      <td>5.1</td>\n",
       "      <td>1.8</td>\n",
       "    </tr>\n",
       "  </tbody>\n",
       "</table>\n",
       "<p>100 rows × 3 columns</p>\n",
       "</div>"
      ],
      "text/plain": [
       "                  0    1    2\n",
       "0   Iris versicolor  4.7  1.4\n",
       "1   Iris versicolor  4.5  1.5\n",
       "2   Iris versicolor  4.9  1.5\n",
       "3   Iris versicolor  4.0  1.3\n",
       "4   Iris versicolor  4.6  1.5\n",
       "..              ...  ...  ...\n",
       "95   Iris virginica  5.2  2.3\n",
       "96   Iris virginica  5.0  1.9\n",
       "97   Iris virginica  5.2  2.0\n",
       "98   Iris virginica  5.4  2.3\n",
       "99   Iris virginica  5.1  1.8\n",
       "\n",
       "[100 rows x 3 columns]"
      ]
     },
     "execution_count": 11,
     "metadata": {},
     "output_type": "execute_result"
    }
   ],
   "source": [
    "train_data"
   ]
  },
  {
   "cell_type": "markdown",
   "id": "c0f1a015-2d3b-4790-8fc8-bb67a72e07c5",
   "metadata": {},
   "source": [
    "# III) Separating Labels and Features "
   ]
  },
  {
   "cell_type": "code",
   "execution_count": 13,
   "id": "b229c8e1-5e0e-4064-a239-f744c770c424",
   "metadata": {
    "scrolled": true
   },
   "outputs": [
    {
     "name": "stdout",
     "output_type": "stream",
     "text": [
      "<class 'pandas.core.frame.DataFrame'>\n",
      "<class 'numpy.ndarray'>\n"
     ]
    }
   ],
   "source": [
    "# labels\n",
    "train_labels = train_data[0].to_numpy()\n",
    "test_labels = test_data[0].to_numpy()\n",
    "\n",
    "# features / attributes\n",
    "train_features = train_data.drop(0, axis = 1)\n",
    "#print(type(train_features))\n",
    "train_features = train_features.to_numpy()\n",
    "#print(type(train_features))\n",
    "\n",
    "test_features = test_data.drop(0, axis=1)\n",
    "test_features = test_features.to_numpy()"
   ]
  },
  {
   "cell_type": "markdown",
   "id": "e3d722be-6b10-4b51-91d5-a9eac6466353",
   "metadata": {},
   "source": [
    "# IV) Encode labels into binary "
   ]
  },
  {
   "cell_type": "code",
   "execution_count": 15,
   "id": "d5b1092f-5831-4aa0-bad4-c0e64ccec3b0",
   "metadata": {
    "scrolled": true
   },
   "outputs": [
    {
     "name": "stdout",
     "output_type": "stream",
     "text": [
      "['Iris versicolor' 'Iris versicolor' 'Iris versicolor' 'Iris versicolor'\n",
      " 'Iris versicolor' 'Iris versicolor' 'Iris versicolor' 'Iris versicolor'\n",
      " 'Iris versicolor' 'Iris versicolor' 'Iris versicolor' 'Iris versicolor'\n",
      " 'Iris versicolor' 'Iris versicolor' 'Iris versicolor' 'Iris versicolor'\n",
      " 'Iris versicolor' 'Iris versicolor' 'Iris versicolor' 'Iris versicolor'\n",
      " 'Iris versicolor' 'Iris versicolor' 'Iris versicolor' 'Iris versicolor'\n",
      " 'Iris versicolor' 'Iris versicolor' 'Iris versicolor' 'Iris versicolor'\n",
      " 'Iris versicolor' 'Iris versicolor' 'Iris versicolor' 'Iris versicolor'\n",
      " 'Iris versicolor' 'Iris versicolor' 'Iris versicolor' 'Iris versicolor'\n",
      " 'Iris versicolor' 'Iris versicolor' 'Iris versicolor' 'Iris versicolor'\n",
      " 'Iris versicolor' 'Iris versicolor' 'Iris versicolor' 'Iris versicolor'\n",
      " 'Iris versicolor' 'Iris versicolor' 'Iris versicolor' 'Iris versicolor'\n",
      " 'Iris versicolor' 'Iris versicolor' 'Iris virginica' 'Iris virginica'\n",
      " 'Iris virginica' 'Iris virginica' 'Iris virginica' 'Iris virginica'\n",
      " 'Iris virginica' 'Iris virginica' 'Iris virginica' 'Iris virginica'\n",
      " 'Iris virginica' 'Iris virginica' 'Iris virginica' 'Iris virginica'\n",
      " 'Iris virginica' 'Iris virginica' 'Iris virginica' 'Iris virginica'\n",
      " 'Iris virginica' 'Iris virginica' 'Iris virginica' 'Iris virginica'\n",
      " 'Iris virginica' 'Iris virginica' 'Iris virginica' 'Iris virginica'\n",
      " 'Iris virginica' 'Iris virginica' 'Iris virginica' 'Iris virginica'\n",
      " 'Iris virginica' 'Iris virginica' 'Iris virginica' 'Iris virginica'\n",
      " 'Iris virginica' 'Iris virginica' 'Iris virginica' 'Iris virginica'\n",
      " 'Iris virginica' 'Iris virginica' 'Iris virginica' 'Iris virginica'\n",
      " 'Iris virginica' 'Iris virginica' 'Iris virginica' 'Iris virginica'\n",
      " 'Iris virginica' 'Iris virginica' 'Iris virginica' 'Iris virginica']\n",
      "[0 0 0 0 0 0 0 0 0 0 0 0 0 0 0 0 0 0 0 0 0 0 0 0 0 0 0 0 0 0 0 0 0 0 0 0 0\n",
      " 0 0 0 0 0 0 0 0 0 0 0 0 0 1 1 1 1 1 1 1 1 1 1 1 1 1 1 1 1 1 1 1 1 1 1 1 1\n",
      " 1 1 1 1 1 1 1 1 1 1 1 1 1 1 1 1 1 1 1 1 1 1 1 1 1 1]\n",
      "[0 0 0 0 0 0 0 0 0 0 0 0 0 0 0 0 0 0 0 0 0 0 0 0 0 0 0 0 0 0 0 0 0 0 0 0 0\n",
      " 0 0 0 0 0 0 0 0 0 0 0 0 0 0 0 0 0 0 0 0 0 0 0 0 0 0 0 0 0 0 0 0 0 0 0 0 0\n",
      " 0 0 0 0 0 0 0 0 0 0 0 0 0 0 0 0 0 0 0 0 0 0 0 0 0 0 0 0 0 0 0 0 0 0 0 0 0\n",
      " 0 0 0 0 0 0 0 0 0 0 0 0 0 0 0 0 0 0 0 0 0 0 0 0 0 0 0 0 0 0 0 0 0 0 0 0 0\n",
      " 0 0 0 0 0 0 0 0 0 0 0 0 0 0 0 0 0 0 0 0 0 0 0 0 0 0 0 0 0 0 0 0 0 0 0 0 0\n",
      " 0 0 0 0 0 0 0 0 0 0 0 0 0 0 0 0 0 0 0 0 0 0 0 0 0 0 0 0 0 0 0 0 0 0 0 0 0\n",
      " 0 0 0 0 0 0 0 0 0 0 0 0 0 0 0 0 0 0 0 0 0 0 0 0 0 0 0 0 0 0 0 0 0 0 0 0 0\n",
      " 0 0 0 0 0 0 0 0 0 0 0 0 0 0 0 0 0 0 0 0 0 0 0 0 0 0 0 0 0 0 0 0 0 0 0 0 0\n",
      " 0 0 0 0 0 0 0 0 0 0 0 0 0 0 0 0 0 0 0 0 0 0 0 0 0 0 0 0 0 0 0 0 0 0 0 0 0\n",
      " 0 0 0 0 0 0 0 0 0 0 0 0 0 0 0 0 0 0 0 0 0 0 0 0 0 0 0 0 0 0 0 0 0 0 0 0 0\n",
      " 0 0 0 0 0 0 0 0 0 0 0 0 0 0 0 0 0 0 0 0 0 0 0 0 0 0 0 0 0 0 0 0 0 0 0 0 0\n",
      " 0 0 0 0 0 0 0 0 0 0 0 0 0 0 0 0 0 0 0 0 0 0 0 0 0 0 0 0 0 0 0 0 0 0 0 0 0\n",
      " 0 0 0 0 0 0 0 0 0 0 0 0 0 0 0 0 0 0 0 0 0 0 0 0 0 0 0 0 0 0 0 0 0 0 0 0 0\n",
      " 0 0 0 0 0 0 0 0 0 0 0 0 0 0 0 0 0 0 0 1 1 1 1 1 1 1 1 1 1 1 1 1 1 1 1 1 1\n",
      " 1 1 1 1 1 1 1 1 1 1 1 1 1 1 1 1 1 1 1 1 1 1 1 1 1 1 1 1 1 1 1 1 1 1 1 1 1\n",
      " 1 1 1 1 1 1 1 1 1 1 1 1 1 1 1 1 1 1 1 1 1 1 1 1 1 1 1 1 1 1 1 1 1 1 1 1 1\n",
      " 1 1 1 1 1 1 1 1 1 1 1 1 1 1 1 1 1 1 1 1 1 1 1 1 1 1 1 1 1 1 1 1 1 1 1 1 1\n",
      " 1 1 1 1 1 1 1 1 1 1 1 1 1 1 1 1 1 1 1 1 1 1 1 1 1 1 1 1 1 1 1 1 1 1 1 1 1\n",
      " 1 1 1 1 1 1 1 1 1 1 1 1 1 1 1 1 1 1 1 1 1 1 1 1 1 1 1 1 1 1 1 1 1 1 1 1 1\n",
      " 1 1 1 1 1 1 1 1 1 1 1 1 1 1 1 1 1 1 1 1 1 1 1 1 1 1 1 1 1 1 1 1 1 1 1 1 1\n",
      " 1 1 1 1 1 1 1 1 1 1 1 1 1 1 1 1 1 1 1 1 1 1 1 1 1 1 1 1 1 1 1 1 1 1 1 1 1\n",
      " 1 1 1 1 1 1 1 1 1 1 1 1 1 1 1 1 1 1 1 1 1 1 1 1 1 1 1 1 1 1 1 1 1 1 1 1 1\n",
      " 1 1 1 1 1 1 1 1 1 1 1 1 1 1 1 1 1 1 1 1 1 1 1 1 1 1 1 1 1 1 1 1 1 1 1 1 1\n",
      " 1 1 1 1 1 1 1 1 1 1 1 1 1 1 1 1 1 1 1 1 1 1 1 1 1 1 1 1 1 1 1 1 1 1 1 1 1\n",
      " 1 1 1 1 1 1 1 1 1 1 1 1 1 1 1 1 1 1 1 1 1 1 1 1 1 1 1 1 1 1 1 1 1 1 1 1 1\n",
      " 1 1 1 1 1 1 1 1 1 1 1 1 1 1 1 1 1 1 1 1 1 1 1 1 1 1 1 1 1 1 1 1 1 1 1 1 1\n",
      " 1 1 1 1 1 1 1 1 1 1 1 1 1 1 1 1 1 1 1 1 1 1 1 1 1 1 1 1 1 1 1 1 1 1 1 1 1\n",
      " 1]\n"
     ]
    }
   ],
   "source": [
    "from sklearn.preprocessing import LabelEncoder\n",
    "encoder = LabelEncoder()\n",
    "\n",
    "encoder.fit(train_labels)\n",
    "train_labels01 = encoder.transform(train_labels)\n",
    "test_labels01 = encoder.transform(test_labels)\n",
    "print(train_labels)\n",
    "print(train_labels01)\n",
    "print(test_labels01)"
   ]
  },
  {
   "cell_type": "code",
   "execution_count": 23,
   "id": "d33f9667-7ba2-432a-affa-123fdf14a19e",
   "metadata": {},
   "outputs": [
    {
     "name": "stderr",
     "output_type": "stream",
     "text": [
      "/var/folders/bh/5p429g6x5m79dcs6t538qm_80000gn/T/ipykernel_24096/8178870.py:2: FutureWarning: Downcasting behavior in `replace` is deprecated and will be removed in a future version. To retain the old behavior, explicitly call `result.infer_objects(copy=False)`. To opt-in to the future behavior, set `pd.set_option('future.no_silent_downcasting', True)`\n",
      "  label02 = train_data[0].replace({'Iris versicolor': 0, 'Iris virginica': 1})\n"
     ]
    },
    {
     "data": {
      "text/plain": [
       "0     0\n",
       "1     0\n",
       "2     0\n",
       "3     0\n",
       "4     0\n",
       "     ..\n",
       "95    1\n",
       "96    1\n",
       "97    1\n",
       "98    1\n",
       "99    1\n",
       "Name: 0, Length: 100, dtype: int64"
      ]
     },
     "execution_count": 23,
     "metadata": {},
     "output_type": "execute_result"
    }
   ],
   "source": [
    "# encode also like\n",
    "label02 = train_data[0].replace({'Iris versicolor': 0, 'Iris virginica': 1})\n",
    "label02"
   ]
  },
  {
   "cell_type": "markdown",
   "id": "b34be44e-4c6a-4dea-9e7f-71ad6aba4b81",
   "metadata": {},
   "source": [
    "# V) Support Vector Machines"
   ]
  },
  {
   "cell_type": "code",
   "execution_count": 16,
   "id": "2fe5e064-22c5-455f-9eee-b8830f76c48c",
   "metadata": {},
   "outputs": [
    {
     "name": "stdout",
     "output_type": "stream",
     "text": [
      "SVM train accuracy: 0.94\n"
     ]
    }
   ],
   "source": [
    "# load library\n",
    "from sklearn.svm import LinearSVC\n",
    "\n",
    "# initialize SVM\n",
    "svmclassifier = LinearSVC()\n",
    "\n",
    "# train the model\n",
    "svmclassifier.fit(train_features, train_labels01)\n",
    "\n",
    "# make prediction\n",
    "train_predictions = svmclassifier.predict(train_features)\n",
    "\n",
    "# Evaluate the model\n",
    "from sklearn.metrics import accuracy_score\n",
    "accuracy1 = (accuracy_score(train_labels01, train_predictions))\n",
    "print(f'SVM train accuracy: {accuracy1}')"
   ]
  },
  {
   "cell_type": "code",
   "execution_count": 17,
   "id": "017bb17f-17c5-465a-9031-30a7940f07ad",
   "metadata": {},
   "outputs": [
    {
     "name": "stdout",
     "output_type": "stream",
     "text": [
      "SVM test accuracy: 0.948\n"
     ]
    }
   ],
   "source": [
    "# test\n",
    "test_predictions = svmclassifier.predict(test_features)\n",
    "accuracy2 = (accuracy_score(test_labels01, test_predictions))\n",
    "print(f'SVM test accuracy: {accuracy2}')"
   ]
  },
  {
   "cell_type": "markdown",
   "id": "1836f9f2-45cb-44e9-9af2-067791d612bc",
   "metadata": {},
   "source": [
    "# VI) K-Nearest Neighbours"
   ]
  },
  {
   "cell_type": "code",
   "execution_count": 18,
   "id": "6d7f6463-fcd6-4b00-bfd8-1dcc06e5929e",
   "metadata": {},
   "outputs": [
    {
     "name": "stdout",
     "output_type": "stream",
     "text": [
      "0.94\n",
      "0.953\n"
     ]
    }
   ],
   "source": [
    "from sklearn.neighbors import KNeighborsClassifier\n",
    "\n",
    "# intialize\n",
    "knnclassifier = KNeighborsClassifier()\n",
    "\n",
    "# model\n",
    "knnclassifier.fit(train_features, train_labels01)\n",
    "\n",
    "# evaluate\n",
    "print(accuracy_score(  train_labels01,  knnclassifier.predict(train_features)))\n",
    "print(accuracy_score(  test_labels01,  knnclassifier.predict(test_features)))"
   ]
  },
  {
   "cell_type": "code",
   "execution_count": 36,
   "id": "d0b1b0f8-2cef-4af3-9453-1fc4e9a1e506",
   "metadata": {
    "scrolled": true
   },
   "outputs": [
    {
     "name": "stdout",
     "output_type": "stream",
     "text": [
      "\n",
      "Hyperparameter: Voting Method\n",
      "Voting: uniform \tTraining: 0.94 \tTest: 0.953\n",
      "Voting: distance \tTraining: 0.99 \tTest: 0.952\n",
      "\n",
      "Hyperparameter: K Neighbours\n",
      "Neighbours: 1 \tTraining: 0.98 \tTest: 0.941\n",
      "Neighbours: 2 \tTraining: 0.96 \tTest: 0.935\n",
      "Neighbours: 3 \tTraining: 0.98 \tTest: 0.95\n",
      "Neighbours: 4 \tTraining: 0.96 \tTest: 0.952\n",
      "Neighbours: 5 \tTraining: 0.94 \tTest: 0.953\n"
     ]
    }
   ],
   "source": [
    "from sklearn.neighbors import KNeighborsClassifier\n",
    "\n",
    "print(\"\\nHyperparameter: Voting Method\")\n",
    "\n",
    "voting_options = [\"uniform\", \"distance\"]\n",
    "\n",
    "for option in voting_options:\n",
    "  classifier = KNeighborsClassifier(weights=option)\n",
    "  classifier.fit(train_features, train_labels01)\n",
    "\n",
    "  train_accuracy = accuracy_score( train_labels01,  classifier.predict(train_features) )\n",
    "  test_accuracy = accuracy_score( test_labels01,  classifier.predict(test_features) )\n",
    "  print(\"Voting:\", option, \"\\tTraining:\", train_accuracy, \"\\tTest:\", test_accuracy)\n",
    "\n",
    "print(\"\\nHyperparameter: K Neighbours\")\n",
    "\n",
    "for number in [1, 2, 3, 4, 5]:\n",
    "  classifier = KNeighborsClassifier(n_neighbors=number)\n",
    "  classifier.fit(train_features, train_labels01)\n",
    "\n",
    "  train_accuracy = accuracy_score( train_labels01,  classifier.predict(train_features) )\n",
    "  test_accuracy = accuracy_score( test_labels01,  classifier.predict(test_features) )\n",
    "  print(\"Neighbours:\", number, \"\\tTraining:\", train_accuracy, \"\\tTest:\", test_accuracy)"
   ]
  },
  {
   "cell_type": "code",
   "execution_count": 19,
   "id": "67e33d2a-d957-4794-b3c3-403452b645a0",
   "metadata": {
    "scrolled": true
   },
   "outputs": [
    {
     "name": "stdout",
     "output_type": "stream",
     "text": [
      "Voting: uniform \tNeighbours: 1 \tTraining: 0.98 \tTest: 0.941\n",
      "Voting: uniform \tNeighbours: 2 \tTraining: 0.96 \tTest: 0.935\n",
      "Voting: uniform \tNeighbours: 3 \tTraining: 0.98 \tTest: 0.95\n",
      "Voting: uniform \tNeighbours: 4 \tTraining: 0.96 \tTest: 0.952\n",
      "Voting: uniform \tNeighbours: 5 \tTraining: 0.94 \tTest: 0.953\n",
      "Voting: uniform \tNeighbours: 6 \tTraining: 0.95 \tTest: 0.948\n",
      "Voting: uniform \tNeighbours: 7 \tTraining: 0.95 \tTest: 0.951\n",
      "Voting: uniform \tNeighbours: 8 \tTraining: 0.95 \tTest: 0.949\n",
      "Voting: uniform \tNeighbours: 9 \tTraining: 0.94 \tTest: 0.944\n",
      "Voting: uniform \tNeighbours: 10 \tTraining: 0.94 \tTest: 0.948\n",
      "Voting: distance \tNeighbours: 1 \tTraining: 0.98 \tTest: 0.941\n",
      "Voting: distance \tNeighbours: 2 \tTraining: 0.98 \tTest: 0.941\n",
      "Voting: distance \tNeighbours: 3 \tTraining: 0.99 \tTest: 0.952\n",
      "Voting: distance \tNeighbours: 4 \tTraining: 0.99 \tTest: 0.952\n",
      "Voting: distance \tNeighbours: 5 \tTraining: 0.99 \tTest: 0.952\n",
      "Voting: distance \tNeighbours: 6 \tTraining: 0.99 \tTest: 0.953\n",
      "Voting: distance \tNeighbours: 7 \tTraining: 0.99 \tTest: 0.948\n",
      "Voting: distance \tNeighbours: 8 \tTraining: 0.99 \tTest: 0.949\n",
      "Voting: distance \tNeighbours: 9 \tTraining: 0.99 \tTest: 0.948\n",
      "Voting: distance \tNeighbours: 10 \tTraining: 0.99 \tTest: 0.949\n"
     ]
    }
   ],
   "source": [
    "from sklearn.neighbors import KNeighborsClassifier\n",
    "\n",
    "voting_options = [\"uniform\", \"distance\"]\n",
    "for option in voting_options:\n",
    "  for number in [1, 2, 3, 4, 5, 6, 7, 8, 9,10]:\n",
    "    classifier = KNeighborsClassifier(n_neighbors=number, weights=option)\n",
    "    classifier.fit(train_features, train_labels01)\n",
    "    train_accuracy = accuracy_score( train_labels01,  classifier.predict(train_features) )\n",
    "    test_accuracy = accuracy_score( test_labels01,  classifier.predict(test_features) )\n",
    "    print(\"Voting:\", option, \"\\tNeighbours:\", number, \"\\tTraining:\", train_accuracy, \"\\tTest:\", test_accuracy)"
   ]
  },
  {
   "cell_type": "code",
   "execution_count": 21,
   "id": "4af76bd9-cd12-4060-8403-596e5c730e57",
   "metadata": {},
   "outputs": [
    {
     "name": "stdout",
     "output_type": "stream",
     "text": [
      "Voting: uniform \tNeighbours: 1 \tTraining: 0.9875 \tValidation: 0.95\n",
      "Voting: uniform \tNeighbours: 2 \tTraining: 0.9625 \tValidation: 0.9\n",
      "Voting: uniform \tNeighbours: 3 \tTraining: 0.9625 \tValidation: 0.95\n",
      "Voting: uniform \tNeighbours: 4 \tTraining: 0.9625 \tValidation: 0.9\n",
      "Voting: uniform \tNeighbours: 5 \tTraining: 0.95 \tValidation: 0.95\n",
      "Voting: uniform \tNeighbours: 6 \tTraining: 0.95 \tValidation: 0.95\n",
      "Voting: uniform \tNeighbours: 7 \tTraining: 0.95 \tValidation: 0.95\n",
      "Voting: uniform \tNeighbours: 8 \tTraining: 0.9625 \tValidation: 0.95\n",
      "Voting: uniform \tNeighbours: 9 \tTraining: 0.95 \tValidation: 0.95\n",
      "Voting: uniform \tNeighbours: 10 \tTraining: 0.9625 \tValidation: 0.95\n",
      "Voting: distance \tNeighbours: 1 \tTraining: 0.9875 \tValidation: 0.95\n",
      "Voting: distance \tNeighbours: 2 \tTraining: 0.9875 \tValidation: 0.9\n",
      "Voting: distance \tNeighbours: 3 \tTraining: 0.9875 \tValidation: 0.9\n",
      "Voting: distance \tNeighbours: 4 \tTraining: 0.9875 \tValidation: 0.9\n",
      "Voting: distance \tNeighbours: 5 \tTraining: 0.9875 \tValidation: 0.9\n",
      "Voting: distance \tNeighbours: 6 \tTraining: 0.9875 \tValidation: 0.9\n",
      "Voting: distance \tNeighbours: 7 \tTraining: 0.9875 \tValidation: 0.9\n",
      "Voting: distance \tNeighbours: 8 \tTraining: 0.9875 \tValidation: 0.9\n",
      "Voting: distance \tNeighbours: 9 \tTraining: 0.9875 \tValidation: 0.9\n",
      "Voting: distance \tNeighbours: 10 \tTraining: 0.9875 \tValidation: 0.9\n"
     ]
    }
   ],
   "source": [
    "from sklearn.model_selection import ShuffleSplit\n",
    "\n",
    "splitter = ShuffleSplit(n_splits=1, test_size=0.2)\n",
    "\n",
    "traintrain_indexes, validation_indexes = next(splitter.split(train_features, train_labels01))\n",
    "\n",
    "traintrain_features = train_features[traintrain_indexes]\n",
    "traintrain_labels01 = train_labels01[traintrain_indexes]\n",
    "\n",
    "validation_features = train_features[validation_indexes]\n",
    "validation_labels01 = train_labels01[validation_indexes]\n",
    "\n",
    "voting_options = [\"uniform\", \"distance\"]\n",
    "for option in voting_options:\n",
    "  for number in [1, 2, 3, 4, 5,6,7,8,9,10]:\n",
    "    classifier = KNeighborsClassifier(n_neighbors=number, weights=option)\n",
    "    classifier.fit(traintrain_features, traintrain_labels01)\n",
    "    train_accuracy = accuracy_score( traintrain_labels01,  classifier.predict(traintrain_features) )\n",
    "    valid_accuracy = accuracy_score( validation_labels01,  classifier.predict(validation_features) )\n",
    "    print(\"Voting:\", option, \"\\tNeighbours:\", number, \"\\tTraining:\", train_accuracy, \"\\tValidation:\", valid_accuracy)"
   ]
  }
 ],
 "metadata": {
  "kernelspec": {
   "display_name": "Python 3 (ipykernel)",
   "language": "python",
   "name": "python3"
  },
  "language_info": {
   "codemirror_mode": {
    "name": "ipython",
    "version": 3
   },
   "file_extension": ".py",
   "mimetype": "text/x-python",
   "name": "python",
   "nbconvert_exporter": "python",
   "pygments_lexer": "ipython3",
   "version": "3.10.14"
  }
 },
 "nbformat": 4,
 "nbformat_minor": 5
}
