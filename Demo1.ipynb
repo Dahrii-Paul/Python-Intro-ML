{
 "cells": [
  {
   "cell_type": "markdown",
   "id": "f5d431af-a3ee-4c47-9efe-e06020d7cbcc",
   "metadata": {},
   "source": [
    "<h1 align=\"center\"> <b>Data Mining and Data Warehousing Lab. </b></h1>\n",
    "\n",
    "<center> <b>Basic Python ML Demonstration-1 </b> </center>\n",
    "<center> <b>Dahrii Paul </b></center>\n",
    "<center>    (17-10-2024) </center>"
   ]
  },
  {
   "cell_type": "markdown",
   "id": "00f889f6-d2a1-4d23-9854-1cecb0220ecd",
   "metadata": {},
   "source": [
    "# 1). Python Introduction"
   ]
  },
  {
   "cell_type": "markdown",
   "id": "8a9092e8-9ba3-4878-966e-494ef16247b8",
   "metadata": {},
   "source": [
    "## I). Argument"
   ]
  },
  {
   "cell_type": "markdown",
   "id": "25245e03-89f1-4fb3-b4b6-25914e622da3",
   "metadata": {},
   "source": [
    "* _**function(arguments)**_\n",
    "  <br> return value -> output</br>\n",
    "* Input -> process -> output"
   ]
  },
  {
   "cell_type": "code",
   "execution_count": 1,
   "id": "396fd707-d205-4ba5-9354-1258174c95d6",
   "metadata": {
    "scrolled": true
   },
   "outputs": [
    {
     "name": "stdout",
     "output_type": "stream",
     "text": [
      "hello world\n"
     ]
    }
   ],
   "source": [
    "print(\"hello world\")"
   ]
  },
  {
   "cell_type": "markdown",
   "id": "cbf25625-a985-4d46-bda3-b1e81921492e",
   "metadata": {},
   "source": [
    "* **Function:** print()\n",
    "* **Argument:** \"hello world\"\n",
    "* Input to a function are called **arguments**"
   ]
  },
  {
   "cell_type": "code",
   "execution_count": 2,
   "id": "c90f8500-fce2-4f47-a062-4f55699b9f5e",
   "metadata": {},
   "outputs": [
    {
     "name": "stdout",
     "output_type": "stream",
     "text": [
      "hello world\n",
      "None\n"
     ]
    }
   ],
   "source": [
    "print(print(\"hello world\"))"
   ]
  },
  {
   "cell_type": "markdown",
   "id": "7b8336c1-35f5-4aa5-bdcd-d188e16cf289",
   "metadata": {},
   "source": [
    "* **Innermost** is resolve first & then the outside\n",
    "* Returning **'None'** does not mean that the function does nothing. It simply means that the function does not return any useful data, but it can still perform other actions."
   ]
  },
  {
   "cell_type": "code",
   "execution_count": 8,
   "id": "02cab7b6-7fd5-4f46-92a1-ec3a3e3a35f2",
   "metadata": {},
   "outputs": [
    {
     "name": "stdout",
     "output_type": "stream",
     "text": [
      "<class 'builtin_function_or_method'>\n"
     ]
    }
   ],
   "source": [
    "print(type(print))"
   ]
  },
  {
   "cell_type": "markdown",
   "id": "05675415-ed5f-4025-bf98-9eae92d87f4b",
   "metadata": {},
   "source": [
    "* **print** is a function object that is passed as an argument to **type()**\n",
    "* **print(type(print))** prints the type of the **print** function.\n",
    "* **print** is not an argument by itself—it’s a function object being passed as an argument to the **type()** function\n"
   ]
  },
  {
   "cell_type": "markdown",
   "id": "020bd5a2-34ee-4ead-ba21-84283b561515",
   "metadata": {
    "jp-MarkdownHeadingCollapsed": true
   },
   "source": [
    "## II) Method"
   ]
  },
  {
   "cell_type": "code",
   "execution_count": 9,
   "id": "4cad28f9-fbf7-45be-a023-2f7c8718a90c",
   "metadata": {},
   "outputs": [
    {
     "name": "stdout",
     "output_type": "stream",
     "text": [
      "HELLO\n"
     ]
    }
   ],
   "source": [
    "x = \"hello\"\n",
    "print(x.upper())"
   ]
  },
  {
   "cell_type": "markdown",
   "id": "f9dcf432-ed8d-4634-ba7a-d28ad2cd861a",
   "metadata": {},
   "source": [
    "* **Object:** x (which store the string \"hello\")\n",
    "* **Method:** upper()\n",
    "* **Argument:** none \n"
   ]
  },
  {
   "cell_type": "markdown",
   "id": "5a29dc92-6301-4eb0-9259-7fee8f716c38",
   "metadata": {},
   "source": [
    "* **Example:** raj.fetch(ball)\n",
    "* ***object.methods(argument)***\n",
    "    * raj - object\n",
    "    * fetch - method\n",
    "    * ball - argument \n",
    "* Input to a function are called **arguments**\n",
    "* Class-specific functions present inside the object are called **methods**\n",
    "* A specific instance of a class is **object**"
   ]
  },
  {
   "cell_type": "code",
   "execution_count": 5,
   "id": "1ea4983f-b16a-486a-adbb-03a74c0c3e50",
   "metadata": {
    "scrolled": true
   },
   "outputs": [
    {
     "ename": "AttributeError",
     "evalue": "'int' object has no attribute 'upper'",
     "output_type": "error",
     "traceback": [
      "\u001b[0;31m---------------------------------------------------------------------------\u001b[0m",
      "\u001b[0;31mAttributeError\u001b[0m                            Traceback (most recent call last)",
      "Cell \u001b[0;32mIn[5], line 2\u001b[0m\n\u001b[1;32m      1\u001b[0m y\u001b[38;5;241m=\u001b[39m\u001b[38;5;241m5\u001b[39m\n\u001b[0;32m----> 2\u001b[0m \u001b[38;5;28mprint\u001b[39m(\u001b[43my\u001b[49m\u001b[38;5;241;43m.\u001b[39;49m\u001b[43mupper\u001b[49m())\n",
      "\u001b[0;31mAttributeError\u001b[0m: 'int' object has no attribute 'upper'"
     ]
    }
   ],
   "source": [
    "y=5\n",
    "print(y.upper())"
   ]
  },
  {
   "cell_type": "markdown",
   "id": "0ce903b3-9633-4c64-8326-3abb84d29826",
   "metadata": {},
   "source": [
    "* **AttributeError:** means that the object doesn't have this method"
   ]
  },
  {
   "cell_type": "markdown",
   "id": "a743aceb-edfd-41c0-b83d-96174d6b8a15",
   "metadata": {
    "jp-MarkdownHeadingCollapsed": true
   },
   "source": [
    "## III). dir() _function_\n",
    "* **dir():** returns all properties and methods of the specified object, without the values\n",
    "* **Returns details of the object class**"
   ]
  },
  {
   "cell_type": "code",
   "execution_count": 10,
   "id": "1e752c06-6e4c-4232-a8ae-e99d9646b1da",
   "metadata": {
    "scrolled": true
   },
   "outputs": [
    {
     "name": "stdout",
     "output_type": "stream",
     "text": [
      "['__abs__', '__add__', '__and__', '__bool__', '__ceil__', '__class__', '__delattr__', '__dir__', '__divmod__', '__doc__', '__eq__', '__float__', '__floor__', '__floordiv__', '__format__', '__ge__', '__getattribute__', '__getnewargs__', '__gt__', '__hash__', '__index__', '__init__', '__init_subclass__', '__int__', '__invert__', '__le__', '__lshift__', '__lt__', '__mod__', '__mul__', '__ne__', '__neg__', '__new__', '__or__', '__pos__', '__pow__', '__radd__', '__rand__', '__rdivmod__', '__reduce__', '__reduce_ex__', '__repr__', '__rfloordiv__', '__rlshift__', '__rmod__', '__rmul__', '__ror__', '__round__', '__rpow__', '__rrshift__', '__rshift__', '__rsub__', '__rtruediv__', '__rxor__', '__setattr__', '__sizeof__', '__str__', '__sub__', '__subclasshook__', '__truediv__', '__trunc__', '__xor__', 'as_integer_ratio', 'bit_count', 'bit_length', 'conjugate', 'denominator', 'from_bytes', 'imag', 'numerator', 'real', 'to_bytes']\n"
     ]
    }
   ],
   "source": [
    "# dir(): details of the object class\n",
    "x = 5\n",
    "print(dir(x))"
   ]
  },
  {
   "cell_type": "code",
   "execution_count": 18,
   "id": "99cc6b36-16d4-487d-ab6d-6d06edad8456",
   "metadata": {},
   "outputs": [
    {
     "name": "stdout",
     "output_type": "stream",
     "text": [
      "a: 10\n",
      "b: 10\n"
     ]
    }
   ],
   "source": [
    "a = x.__add__(5)\n",
    "b = x + 5\n",
    "print(f'a: {a}')\n",
    "print(f'b: {b}')"
   ]
  },
  {
   "cell_type": "markdown",
   "id": "b0f3f3be-7f83-4de3-aa66-964f40fa6796",
   "metadata": {},
   "source": [
    "* '**+**' is same with '**__add__**'"
   ]
  },
  {
   "cell_type": "markdown",
   "id": "878b2a02-4392-432d-9919-d1d6d7fe2cfb",
   "metadata": {
    "jp-MarkdownHeadingCollapsed": true
   },
   "source": [
    "## IV). Container object\n",
    "* A container object is an object that contains other objects. Container objects provide a way to store and organize multiple objects, allowing you to access, iterate over, and manipulate them collectively."
   ]
  },
  {
   "cell_type": "code",
   "execution_count": 19,
   "id": "339e0036-3d73-4087-b65d-3a035b725dd3",
   "metadata": {},
   "outputs": [
    {
     "name": "stdout",
     "output_type": "stream",
     "text": [
      "[1, 'string', 5.0, -50, <built-in function print>]\n"
     ]
    }
   ],
   "source": [
    "train =[1,\"string\",5.0,-50, print]\n",
    "print(train)"
   ]
  },
  {
   "cell_type": "code",
   "execution_count": 20,
   "id": "138f347f-e756-44d8-8ad8-f2c456b03412",
   "metadata": {},
   "outputs": [
    {
     "name": "stdout",
     "output_type": "stream",
     "text": [
      "5.0\n"
     ]
    }
   ],
   "source": [
    "print(train[2])"
   ]
  },
  {
   "cell_type": "code",
   "execution_count": 21,
   "id": "c2358c54-ab13-4baf-bcc8-886187103b08",
   "metadata": {},
   "outputs": [
    {
     "name": "stdout",
     "output_type": "stream",
     "text": [
      "5.0\n",
      "5.0\n"
     ]
    }
   ],
   "source": [
    "print(train[2])\n",
    "print(train.__getitem__(2))"
   ]
  },
  {
   "cell_type": "code",
   "execution_count": 11,
   "id": "c98f23f7-9191-4553-8a35-ccb6781fa7b9",
   "metadata": {},
   "outputs": [
    {
     "name": "stdout",
     "output_type": "stream",
     "text": [
      "['a', 'b', 'c', 'd']\n",
      "<class 'list'>\n"
     ]
    }
   ],
   "source": [
    "train =[\"a\",\"b\",\"c\",\"d\"]\n",
    "print(train)\n",
    "print(type(train))"
   ]
  },
  {
   "cell_type": "code",
   "execution_count": 16,
   "id": "7804723f-51f4-4d42-9ef6-24539e53a295",
   "metadata": {},
   "outputs": [
    {
     "name": "stdout",
     "output_type": "stream",
     "text": [
      "array4: [1 2 3 4]\n",
      "list4: [1, 2, 3, 4]\n",
      "append 6: [1, 2, 3, 4, 6]\n"
     ]
    }
   ],
   "source": [
    "from numpy import array\n",
    "array4=array([1,2,3,4])\n",
    "list4 =[1,2,3,4]\n",
    "print(f'array4: {array4}')\n",
    "print(f'list4: {list4}')\n",
    "\n",
    "list4.append(6)\n",
    "print(f'append 6: {list4}')"
   ]
  },
  {
   "cell_type": "markdown",
   "id": "f6fc21f7-1478-49d6-86e5-9df1c6aafd40",
   "metadata": {},
   "source": [
    "## V). Dictionaries\n",
    "* dict class (Dictionaries)\n",
    "* cannot expressed using int object\n",
    "* item can be any object\n",
    "* store info in a sequence\n",
    "* key do not need to be int and instead can be str\n",
    "* create using {} , to separate : key from value"
   ]
  },
  {
   "cell_type": "code",
   "execution_count": 17,
   "id": "f3c65012-54ff-42c7-a471-842630084a9c",
   "metadata": {},
   "outputs": [
    {
     "name": "stdout",
     "output_type": "stream",
     "text": [
      "{'key': 'value'}\n",
      "<class 'dict'>\n",
      "value\n"
     ]
    }
   ],
   "source": [
    "a={\"key\":\"value\"}\n",
    "print(a)\n",
    "print(type(a))\n",
    "print(a[\"key\"])"
   ]
  },
  {
   "cell_type": "code",
   "execution_count": 18,
   "id": "7af0cacb-3b75-4d89-b4aa-ffa5535d2c37",
   "metadata": {},
   "outputs": [
    {
     "name": "stdout",
     "output_type": "stream",
     "text": [
      "4\n",
      "<class 'dict'>\n"
     ]
    }
   ],
   "source": [
    "squareof ={1:1,2:4,3:9,4:16,5:25,6:21}\n",
    "print(squareof[2])\n",
    "print(type(squareof))"
   ]
  },
  {
   "cell_type": "code",
   "execution_count": 19,
   "id": "cf49d8ca-afac-4746-a759-54bcd1fef184",
   "metadata": {},
   "outputs": [
    {
     "name": "stdout",
     "output_type": "stream",
     "text": [
      "{'key': 'value', 'second': 5.0}\n",
      "<class 'dict'>\n",
      "5.0\n"
     ]
    }
   ],
   "source": [
    "a ={\"key\":\"value\",\"second\":5.0}\n",
    "print(a)\n",
    "print(type(a))\n",
    "print(a[\"second\"])"
   ]
  },
  {
   "cell_type": "markdown",
   "id": "5b60012d-7cfb-454d-94d0-f9cd2ab69025",
   "metadata": {},
   "source": [
    "## VI). Traversing a list"
   ]
  },
  {
   "cell_type": "code",
   "execution_count": 20,
   "id": "18083bac-56a5-4397-a440-5b9dc2f82f89",
   "metadata": {},
   "outputs": [
    {
     "name": "stdout",
     "output_type": "stream",
     "text": [
      "one\n",
      "two\n",
      "three\n",
      "four\n",
      "five\n",
      "six\n",
      "seven\n",
      "eight\n",
      "nine\n",
      "ten\n"
     ]
    }
   ],
   "source": [
    "numbers = [\"one\", \"two\", \"three\", \"four\", \"five\", \"six\", \"seven\", \"eight\", \"nine\", \"ten\"]\n",
    "print(numbers[0])\n",
    "print(numbers[1])\n",
    "print(numbers[2])\n",
    "print(numbers[3])\n",
    "print(numbers[4])\n",
    "print(numbers[5])\n",
    "print(numbers[6])\n",
    "print(numbers[7])\n",
    "print(numbers[8])\n",
    "print(numbers[9])"
   ]
  },
  {
   "cell_type": "markdown",
   "id": "78516536-1b85-414c-96b1-551f4f46282d",
   "metadata": {},
   "source": [
    "## VII). For loop"
   ]
  },
  {
   "cell_type": "markdown",
   "id": "4e77e2ff-4446-49b1-a1e8-b60a080c3bfc",
   "metadata": {},
   "source": [
    "* An alternative way to travel through a list is provided by the for loop in Python. It works like this :"
   ]
  },
  {
   "cell_type": "code",
   "execution_count": 22,
   "id": "fb762cb1-c11e-4809-b254-d75597f682cd",
   "metadata": {},
   "outputs": [
    {
     "name": "stdout",
     "output_type": "stream",
     "text": [
      "['one', 'two', 'three', 'four', 'five', 'six', 'seven', 'eight', 'nine', 'ten']\n",
      "one\n",
      "two\n",
      "three\n",
      "four\n",
      "five\n",
      "six\n",
      "seven\n",
      "eight\n",
      "nine\n",
      "ten\n"
     ]
    }
   ],
   "source": [
    "print(numbers)\n",
    "for number in numbers: #variable in container\n",
    "  print(number)"
   ]
  },
  {
   "cell_type": "code",
   "execution_count": 30,
   "id": "5c7bb005-e5a1-42f1-bbf1-e164e3a86639",
   "metadata": {},
   "outputs": [
    {
     "name": "stdout",
     "output_type": "stream",
     "text": [
      "[1, 2, 3, 4, 5, 6]\n",
      "1\n",
      "2\n",
      "3\n",
      "4\n",
      "5\n",
      "6\n"
     ]
    }
   ],
   "source": [
    "numbers = [1,2,3,4,5,6]\n",
    "print(numbers)\n",
    "\n",
    "for number in numbers:\n",
    "  print(number)"
   ]
  },
  {
   "cell_type": "code",
   "execution_count": 3,
   "id": "b34a4c26-ed97-4d8d-8cfb-9ab05eedbf0f",
   "metadata": {},
   "outputs": [
    {
     "name": "stdout",
     "output_type": "stream",
     "text": [
      "[1, 2, 3]\n",
      "[4, 5, 6]\n",
      "[[1, 2, 3], [4, 5, 6]]\n"
     ]
    }
   ],
   "source": [
    "a = [1,2,3]\n",
    "b = [4,5,6]\n",
    "biglist=[a,b]\n",
    "print(a)\n",
    "print(b)\n",
    "print(biglist)"
   ]
  },
  {
   "cell_type": "code",
   "execution_count": 6,
   "id": "71da308b-3768-4b0c-aaa9-2a92ff5ca38a",
   "metadata": {},
   "outputs": [
    {
     "name": "stdout",
     "output_type": "stream",
     "text": [
      "1\n",
      "Second for loop has completed one round\n",
      "2\n",
      "Second for loop has completed one round\n",
      "3\n",
      "Second for loop has completed one round\n",
      "Frist for loop has completed one round\n",
      "4\n",
      "Second for loop has completed one round\n",
      "5\n",
      "Second for loop has completed one round\n",
      "6\n",
      "Second for loop has completed one round\n",
      "Frist for loop has completed one round\n"
     ]
    }
   ],
   "source": [
    "for a1 in biglist:\n",
    "  for item in a1:\n",
    "    print(item)\n",
    "    print(\"Second for loop has completed one round\")\n",
    "  print(\"Frist for loop has completed one round\")"
   ]
  },
  {
   "cell_type": "code",
   "execution_count": 23,
   "id": "348e3cda-abe5-4a6c-bb79-1c117de23be7",
   "metadata": {},
   "outputs": [
    {
     "name": "stdout",
     "output_type": "stream",
     "text": [
      "1\n",
      "2\n",
      "3\n",
      "4\n",
      "5\n",
      "6\n"
     ]
    }
   ],
   "source": [
    "row1=[1,2,3]\n",
    "row2=[4,5,6]\n",
    "\n",
    "table =[row1, row2]\n",
    "\n",
    "for arow in table:\n",
    "  for eachitem in arow:\n",
    "    print(eachitem)"
   ]
  },
  {
   "cell_type": "markdown",
   "id": "2ad1ad16-b26a-4fb3-906b-20c1a076adbd",
   "metadata": {},
   "source": [
    "## VII). [Numpy array](https://numpy.org/doc/stable/)\n",
    "* **NumPy _(Numerical Python)_:** It provides support for large, multi-dimensional arrays and matrices, along with a collection of high-level mathematical functions to operate on\n",
    "these arrays.\n",
    "> **Key Features:**\n",
    "  > * Efficient handling of large arrays and matrices.\n",
    "  > * Mathematical functions for operations on arrays without writing loops.\n",
    "  > * Tools for integrating C/C++ and Fortran code.\n"
   ]
  },
  {
   "cell_type": "code",
   "execution_count": 28,
   "id": "5e8fae31-e3d0-43c7-b1fd-53cb3b0a91b0",
   "metadata": {},
   "outputs": [
    {
     "name": "stdout",
     "output_type": "stream",
     "text": [
      "[[1 2 3]\n",
      " [4 5 6]]\n",
      "1\n",
      "2\n",
      "3\n",
      "4\n",
      "5\n",
      "6\n"
     ]
    }
   ],
   "source": [
    "from numpy import array\n",
    "\n",
    "row1=[1,2,3]\n",
    "row2=[4,5,6]\n",
    "\n",
    "table =[row1, row2]\n",
    "table = array(table)\n",
    "print(table)\n",
    "\n",
    "for arow in table:\n",
    "  for eachitem in arow:\n",
    "    print(eachitem)"
   ]
  },
  {
   "cell_type": "code",
   "execution_count": 27,
   "id": "a80b8d24-9467-48a1-aea7-f584b1147e57",
   "metadata": {},
   "outputs": [
    {
     "name": "stdout",
     "output_type": "stream",
     "text": [
      "2\n"
     ]
    }
   ],
   "source": [
    "print(table[0][1])"
   ]
  },
  {
   "cell_type": "code",
   "execution_count": 29,
   "id": "dec9ba22-f29c-45d1-8032-78d631dbfcaa",
   "metadata": {
    "scrolled": true
   },
   "outputs": [
    {
     "name": "stdout",
     "output_type": "stream",
     "text": [
      "1\n",
      "in loop,  1\n",
      "hello\n",
      "in loop,  2\n",
      "hello\n",
      "in loop,  3\n",
      "hello\n",
      "in loop,  aa\n",
      "hello\n"
     ]
    }
   ],
   "source": [
    "# for loop\n",
    "somelist =[1,2,3,\"aa\"]\n",
    "print(somelist[0])\n",
    "\n",
    "for item_one_By_one in somelist:\n",
    "  print(\"in loop, \", item_one_By_one)\n",
    "  x=\"hello\"\n",
    "  print(x)"
   ]
  },
  {
   "cell_type": "markdown",
   "id": "d5f8ff2f-65c6-4c76-b037-46ffe1c890cc",
   "metadata": {},
   "source": [
    "### Array Operations"
   ]
  },
  {
   "cell_type": "code",
   "execution_count": 34,
   "id": "253e5799-907f-457f-b7ce-c7797a84d63e",
   "metadata": {},
   "outputs": [
    {
     "name": "stdout",
     "output_type": "stream",
     "text": [
      "array1: [1 2 3 4]\n",
      "Squared Elements: [ 1  4  9 16]\n",
      "Sum of Elements: <built-in function array>\n"
     ]
    }
   ],
   "source": [
    "import numpy\n",
    "array1 = numpy.array([1, 2, 3, 4])\n",
    "print(f'array1: {array1}')\n",
    "\n",
    "# Element-wise operations\n",
    "squared = array1 ** 2\n",
    "sum_of_elements = numpy.sum(array)\n",
    "print(\"Squared Elements:\", squared)\n",
    "print(\"Sum of Elements:\", sum_of_elements)"
   ]
  },
  {
   "cell_type": "markdown",
   "id": "d142b8c5-685c-483d-9973-c20f97179dca",
   "metadata": {},
   "source": [
    "### Matrix"
   ]
  },
  {
   "cell_type": "code",
   "execution_count": 37,
   "id": "51724fdd-53ed-4f26-b94f-3b2398d3a215",
   "metadata": {
    "scrolled": true
   },
   "outputs": [
    {
     "name": "stdout",
     "output_type": "stream",
     "text": [
      "Matrix 1:\n",
      " [[1 2]\n",
      " [3 4]]\n",
      "Matrix 2:\n",
      " [[5 6]\n",
      " [7 8]]\n",
      "Matrix Multiplication Result:\n",
      " [[19 22]\n",
      " [43 50]]\n"
     ]
    }
   ],
   "source": [
    "import numpy as np\n",
    "# Creating two 2x2 matrices\n",
    "matrix1 = np.array([[1, 2], [3, 4]])\n",
    "matrix2 = np.array([[5, 6], [7, 8]])\n",
    "\n",
    "# Matrix multiplication\n",
    "result = np.dot(matrix1, matrix2)\n",
    "\n",
    "print(\"Matrix 1:\\n\", matrix1)\n",
    "print(\"Matrix 2:\\n\", matrix2)\n",
    "print(\"Matrix Multiplication Result:\\n\", result)"
   ]
  },
  {
   "cell_type": "markdown",
   "id": "c9345236-12d6-436c-8302-e8a1c296be7d",
   "metadata": {},
   "source": [
    "### Setting seeds for reproducibility"
   ]
  },
  {
   "cell_type": "code",
   "execution_count": 46,
   "id": "c2358015-9836-4666-aef6-b19638c4d032",
   "metadata": {},
   "outputs": [
    {
     "name": "stdout",
     "output_type": "stream",
     "text": [
      "Random Data1: [-0.23413696  1.57921282  0.76743473 -0.46947439  0.54256004]\n",
      "Random Data2: [-0.46341769 -0.46572975  0.24196227 -1.91328024 -1.72491783]\n",
      "Random Data3: [ 0.49671415 -0.1382643   0.64768854  1.52302986 -0.23415337]\n",
      "Random Data4: [ 0.49671415 -0.1382643   0.64768854  1.52302986 -0.23415337]\n"
     ]
    }
   ],
   "source": [
    "import numpy as np\n",
    "\n",
    "random_data1 = np.random.randn(5)\n",
    "print(\"Random Data1:\", random_data1)\n",
    "\n",
    "random_data2 = np.random.randn(5)\n",
    "print(\"Random Data2:\", random_data2)\n",
    "\n",
    "# Setting the seed for reproducibility\n",
    "np.random.seed(42)\n",
    "random_data3 = np.random.randn(5)\n",
    "print(\"Random Data3:\", random_data3)\n",
    "np.random.seed(42)\n",
    "random_data4 = np.random.randn(5)\n",
    "print(\"Random Data4:\", random_data4)"
   ]
  },
  {
   "cell_type": "markdown",
   "id": "9108733c-a59d-4ea2-8c69-22daf25d195d",
   "metadata": {},
   "source": [
    "## VII). [Pandas](https://pandas.pydata.org/docs/user_guide/index.html)\n",
    "* **Pandas:** It provides data structures and operations for manipulating numerical tables and time series.\n",
    "> **Key Features:**\n",
    "    > * DataFrame object for data manipulation with labeled axes (rows and columns).\n",
    "    > * Tools for reading and writing data between in-memory data structures and various file formats (CSV, Excel, SQL databases).\n",
    "    > * Data alignment and handling of missing data."
   ]
  },
  {
   "cell_type": "markdown",
   "id": "65bce63e-cbac-4082-9437-1b5ef376ad53",
   "metadata": {},
   "source": [
    "### Create a data frame"
   ]
  },
  {
   "cell_type": "code",
   "execution_count": 64,
   "id": "9a618e0a-6586-4701-bd0e-f2db32a743e0",
   "metadata": {},
   "outputs": [
    {
     "name": "stdout",
     "output_type": "stream",
     "text": [
      "  Name  Age  Uni\n",
      "0    A   25  HCU\n",
      "1    B   30   PU\n",
      "2    C   35   DU\n",
      "3    D   40  JNU\n"
     ]
    }
   ],
   "source": [
    "import pandas as pd\n",
    "\n",
    "# Creating a DataFrame from a dictionary\n",
    "data = {\n",
    "    'Name': ['A', 'B', 'C', 'D'],\n",
    "    'Age': [25, 30, 35, 40],\n",
    "    'Uni': ['HCU', 'PU', 'DU', 'JNU']\n",
    "}\n",
    "\n",
    "df = pd.DataFrame(data)\n",
    "print(df)"
   ]
  },
  {
   "cell_type": "markdown",
   "id": "0cf19ce9-cc7d-42b6-8616-9853376a432f",
   "metadata": {},
   "source": [
    "### Read files"
   ]
  },
  {
   "cell_type": "code",
   "execution_count": 56,
   "id": "c62d547a-87a3-43de-84f6-2c1e1b77ea0d",
   "metadata": {},
   "outputs": [
    {
     "name": "stdout",
     "output_type": "stream",
     "text": [
      "   Iris versicolor  4.70  1.40\n",
      "0  Iris versicolor   4.5   1.5\n",
      "1  Iris versicolor   4.9   1.5\n",
      "2  Iris versicolor   4.0   1.3\n",
      "3  Iris versicolor   4.6   1.5\n",
      "4  Iris versicolor   4.5   1.3\n"
     ]
    }
   ],
   "source": [
    "data = pd.read_csv('iris_train.csv')\n",
    "print(data.head())"
   ]
  },
  {
   "cell_type": "markdown",
   "id": "51e78aa6-8a05-4322-b0ce-e129ec1dae97",
   "metadata": {},
   "source": [
    "### Data selection"
   ]
  },
  {
   "cell_type": "code",
   "execution_count": 77,
   "id": "b98a444c-6e8c-4e79-97f5-c116a91b8638",
   "metadata": {},
   "outputs": [
    {
     "name": "stdout",
     "output_type": "stream",
     "text": [
      "  Name  Age  Uni  Age in 10 Years\n",
      "0    A   25  HCU               35\n",
      "1    B   30   PU               40\n",
      "2    C   35   DU               45\n",
      "3    D   40  JNU               50\n",
      "\n",
      "Ages:\n",
      " 0    25\n",
      "1    30\n",
      "2    35\n",
      "3    40\n",
      "Name: Age, dtype: int64\n"
     ]
    }
   ],
   "source": [
    "print(df)\n",
    "\n",
    "# Selecting a single column\n",
    "ages = df['Age']\n",
    "print(\"\\nAges:\\n\", ages)"
   ]
  },
  {
   "cell_type": "code",
   "execution_count": 67,
   "id": "1d15fd15-f502-4dcd-b5a1-e7cf4e71af08",
   "metadata": {},
   "outputs": [
    {
     "name": "stdout",
     "output_type": "stream",
     "text": [
      "Name and university:\n",
      "   Name  Uni\n",
      "0    A  HCU\n",
      "1    B   PU\n",
      "2    C   DU\n",
      "3    D  JNU\n"
     ]
    }
   ],
   "source": [
    "# Selecting multiple columns\n",
    "name_city = df[['Name', 'Uni']]\n",
    "print(\"Name and university:\\n\", name_city)"
   ]
  },
  {
   "cell_type": "code",
   "execution_count": 68,
   "id": "a1bffef6-f33e-4f38-9fd0-efeb77a943d3",
   "metadata": {},
   "outputs": [
    {
     "name": "stdout",
     "output_type": "stream",
     "text": [
      "First two rows:\n",
      "   Name  Age  Uni\n",
      "0    A   25  HCU\n",
      "1    B   30   PU\n"
     ]
    }
   ],
   "source": [
    "# Selecting rows by index\n",
    "first_two_rows = df.iloc[:2]\n",
    "print(\"First two rows:\\n\", first_two_rows)"
   ]
  },
  {
   "cell_type": "code",
   "execution_count": 69,
   "id": "c6b2d181-2ae9-4c43-af0f-6a266b98a5ba",
   "metadata": {},
   "outputs": [
    {
     "name": "stdout",
     "output_type": "stream",
     "text": [
      "Rows where Age > 30:\n",
      "   Name  Age  Uni\n",
      "2    C   35   DU\n",
      "3    D   40  JNU\n"
     ]
    }
   ],
   "source": [
    "# Selecting rows by condition\n",
    "above_30 = df[df['Age'] > 30]\n",
    "print(\"Rows where Age > 30:\\n\", above_30)"
   ]
  },
  {
   "cell_type": "code",
   "execution_count": 70,
   "id": "68cd4a06-8b7c-465c-bb8b-0ea313728d84",
   "metadata": {},
   "outputs": [
    {
     "name": "stdout",
     "output_type": "stream",
     "text": [
      "  Name  Age  Uni  Age in 10 Years\n",
      "0    A   25  HCU               35\n",
      "1    B   30   PU               40\n",
      "2    C   35   DU               45\n",
      "3    D   40  JNU               50\n"
     ]
    }
   ],
   "source": [
    "# Adding a new column with calculated data\n",
    "df['Age in 10 Years'] = df['Age'] + 10\n",
    "print(df)"
   ]
  },
  {
   "cell_type": "markdown",
   "id": "56a86b95-dfb5-45b4-a672-10ee90fc2f5d",
   "metadata": {},
   "source": [
    "### Merging dataframes"
   ]
  },
  {
   "cell_type": "code",
   "execution_count": 76,
   "id": "234e0b5d-d3b1-406c-8c55-dd08de5e2ec4",
   "metadata": {},
   "outputs": [
    {
     "name": "stdout",
     "output_type": "stream",
     "text": [
      "   ID     Name\n",
      "0   1    Alice\n",
      "1   2      Bob\n",
      "2   3  Charlie\n",
      "\n",
      "    ID  Score\n",
      "0   1     85\n",
      "1   2     90\n",
      "2   3     95\n",
      "\n",
      "Merged DataFrame:\n",
      "    ID     Name  Score\n",
      "0   1    Alice     85\n",
      "1   2      Bob     90\n",
      "2   3  Charlie     95\n"
     ]
    }
   ],
   "source": [
    "# Creating two DataFrames\n",
    "df1 = pd.DataFrame({'ID': [1, 2, 3], 'Name': ['Alice', 'Bob', 'Charlie']})\n",
    "df2 = pd.DataFrame({'ID': [1, 2, 3], 'Score': [85, 90, 95]})\n",
    "print(df1)\n",
    "print('\\n',df2)\n",
    "\n",
    "# Merging on a common column (ID)\n",
    "merged_df = pd.merge(df1, df2, on='ID')\n",
    "print(\"\\nMerged DataFrame:\\n\", merged_df)\n"
   ]
  },
  {
   "cell_type": "markdown",
   "id": "bdde4b1b-73ec-4541-a1a5-ef0e47dd710d",
   "metadata": {},
   "source": [
    "## VIII). [Matplotlib](https://matplotlib.org/stable/gallery/index.html) / [Seaborn](https://seaborn.pydata.org/examples/index.html): \n",
    "* **Matplotlib/Seaborn:** Matplotlib is a comprehensive library for creating static, animated, and interactive visualizations in Python. Seaborn is built on top of Matplotlib and provides a high-level interface for drawing attractive and informative statistical graphics.\n",
    "> **Key Features:**\n",
    "    > * Support for various plot types: line plots, scatter plots, bar charts, histograms, etc.\n",
    "    > * Customization options for labels, colors, and styles.\n",
    "    > * Seamless integration with Pandas data structures."
   ]
  },
  {
   "cell_type": "markdown",
   "id": "b13d78bb-8aae-468e-bcf2-c5309f325891",
   "metadata": {},
   "source": [
    "## IX). [Scikit-learn](https://scikit-learn.org/stable/):\n",
    "* **Scikit-learn:** Scikit-learn is a versatile machine learning library for Python. It provides simple and efficient tools for data mining and data analysis, built on top of NumPy,\n",
    "SciPy, and Matplotlib.\n",
    "> **Key Features:**\n",
    "    > * Consistent API for various machine learning algorithms: classification,\n",
    "regression, clustering, dimensionality reduction, etc.\n",
    "    > * Tools for model selection, evaluation, and validation.\n",
    "    > * Integration with other Python libraries like Pandas for data handling and Matplotlib/Seaborn for visualization."
   ]
  },
  {
   "cell_type": "markdown",
   "id": "3de669ce-feac-4765-a2e2-dda19ba3b766",
   "metadata": {},
   "source": [
    "## X). [TensorFlow](https://www.tensorflow.org/tutorials) / [PyTorch](https://pytorch.org/tutorials/):\n",
    "* **TensorFlow/PyTorch:** TensorFlow and PyTorch are powerful open-source libraries for numerical\n",
    "computation and large-scale machine learning. They are primarily used for building\n",
    "and training deep learning models.\n",
    "> **Key Features:**\n",
    "    > * Computational graph abstraction for defining and running complex neural\n",
    "network models.\n",
    "    > * Support for automatic differentiation and gradient-based optimization.\n",
    "    > * Flexible deployment across different platforms and devices (CPUs, GPUs,\n",
    "TPUs)."
   ]
  }
 ],
 "metadata": {
  "kernelspec": {
   "display_name": "Python 3 (ipykernel)",
   "language": "python",
   "name": "python3"
  },
  "language_info": {
   "codemirror_mode": {
    "name": "ipython",
    "version": 3
   },
   "file_extension": ".py",
   "mimetype": "text/x-python",
   "name": "python",
   "nbconvert_exporter": "python",
   "pygments_lexer": "ipython3",
   "version": "3.10.14"
  }
 },
 "nbformat": 4,
 "nbformat_minor": 5
}
